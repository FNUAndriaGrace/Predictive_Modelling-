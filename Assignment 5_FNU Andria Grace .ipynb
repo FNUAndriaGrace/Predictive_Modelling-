{
 "cells": [
  {
   "cell_type": "markdown",
   "metadata": {},
   "source": [
    "# FNU_Andria Grace"
   ]
  },
  {
   "cell_type": "code",
   "execution_count": 2,
   "metadata": {},
   "outputs": [],
   "source": [
    "import numpy as np"
   ]
  },
  {
   "cell_type": "markdown",
   "metadata": {},
   "source": [
    "## Data set"
   ]
  },
  {
   "cell_type": "code",
   "execution_count": 31,
   "metadata": {},
   "outputs": [],
   "source": [
    "x1 = np.array([ 0.        ,  3.33333333,  6.66666667, 10.        ,  0.        ,\n",
    "        3.33333333,  6.66666667, 10.        ,  0.        ,  3.33333333,\n",
    "        6.66666667, 10.        ,  0.        ,  3.33333333,  6.66666667,\n",
    "       10.        ])\n",
    "x2 = np.array([0.        , 0.        , 0.        , 0.        , 0.33333333,\n",
    "       0.33333333, 0.33333333, 0.33333333, 0.66666667, 0.66666667,\n",
    "       0.66666667, 0.66666667, 1.        , 1.        , 1.        ,\n",
    "       1.        ])\n",
    "y = np.array([ 1.22353179,  3.57574634,  5.89217837,  8.19889324,  1.96307308,\n",
    "        4.57556858,  7.48364786,  9.2400334 ,  2.9048125 ,  5.74174653,\n",
    "        8.19832673, 10.69424417,  4.15380028,  7.12275093,  8.8976015 ,\n",
    "       11.76820779])"
   ]
  },
  {
   "cell_type": "markdown",
   "metadata": {},
   "source": [
    "## 1\n",
    "a) Run a linear regression to find A, B1, and B2.  \n",
    "b) Calculate SE(B1) and SE(B2)  \n",
    "c) Calculate a prediction, y_hat, at x1=5, x2=.5 along with $SE(yhat) = \\sqrt{RSS/(n-k-1)} / \\sqrt{n}$"
   ]
  },
  {
   "cell_type": "code",
   "execution_count": 13,
   "metadata": {},
   "outputs": [
    {
     "name": "stdout",
     "output_type": "stream",
     "text": [
      "Linear Regression Results:\n",
      "A: 1.0324877889494908\n",
      "B1: 0.7381831868215667\n",
      "B2: 3.257462940135361\n"
     ]
    }
   ],
   "source": [
    "import numpy as np\n",
    "import statsmodels.api as sm\n",
    "\n",
    "# Define the data\n",
    "x1 = np.array([ 0.        ,  3.33333333,  6.66666667, 10.        ,  0.        ,\n",
    "                3.33333333,  6.66666667, 10.        ,  0.        ,  3.33333333,\n",
    "                6.66666667, 10.        ,  0.        ,  3.33333333,  6.66666667,\n",
    "                10.        ])\n",
    "x2 = np.array([0.        , 0.        , 0.        , 0.        , 0.33333333,\n",
    "               0.33333333, 0.33333333, 0.33333333, 0.66666667, 0.66666667,\n",
    "               0.66666667, 0.66666667, 1.        , 1.        , 1.        ,\n",
    "               1.        ])\n",
    "y = np.array([ 1.22353179,  3.57574634,  5.89217837,  8.19889324,  1.96307308,\n",
    "               4.57556858,  7.48364786,  9.2400334 ,  2.9048125 ,  5.74174653,\n",
    "               8.19832673, 10.69424417,  4.15380028,  7.12275093,  8.8976015 ,\n",
    "               11.76820779])\n",
    "\n",
    "# Add a column of ones to represent the intercept term\n",
    "X = np.column_stack((np.ones_like(x1), x1, x2))\n",
    "\n",
    "# Fit the linear regression model\n",
    "model = sm.OLS(y, X)\n",
    "results = model.fit()\n",
    "\n",
    "# Extract the coefficients\n",
    "A, B1, B2 = results.params\n",
    "\n",
    "print(\"Linear Regression Results:\")\n",
    "print(\"A:\", A)\n",
    "print(\"B1:\", B1)\n",
    "print(\"B2:\", B2)\n"
   ]
  },
  {
   "cell_type": "code",
   "execution_count": 14,
   "metadata": {},
   "outputs": [
    {
     "name": "stdout",
     "output_type": "stream",
     "text": [
      "Standard Errors:\n",
      "SE(B1): 0.016217367403375454\n",
      "SE(B2): 0.1621736737418419\n"
     ]
    }
   ],
   "source": [
    "# Calculate standard errors of B1 and B2\n",
    "SE_B1 = results.bse[1]\n",
    "SE_B2 = results.bse[2]\n",
    "\n",
    "print(\"Standard Errors:\")\n",
    "print(\"SE(B1):\", SE_B1)\n",
    "print(\"SE(B2):\", SE_B2)\n"
   ]
  },
  {
   "cell_type": "code",
   "execution_count": 15,
   "metadata": {},
   "outputs": [
    {
     "name": "stdout",
     "output_type": "stream",
     "text": [
      "Prediction and Standard Error:\n",
      "y_hat: 6.3521351931250045\n",
      "SE(y_hat): 0.060438559895482295\n"
     ]
    }
   ],
   "source": [
    "# Create a new observation\n",
    "x_new = [1, 5, 0.5]  # [constant term, x1, x2]\n",
    "\n",
    "# Predict y_hat for the new observation\n",
    "y_hat = np.dot(x_new, results.params)\n",
    "\n",
    "# Calculate residuals for the fitted model\n",
    "residuals = y - np.dot(X, results.params)\n",
    "\n",
    "# Calculate residual sum of squares (RSS)\n",
    "RSS = np.sum(residuals ** 2)\n",
    "\n",
    "# Number of observations\n",
    "n = len(y)\n",
    "\n",
    "# Number of predictors\n",
    "k = X.shape[1] - 1  # Excluding the intercept term\n",
    "\n",
    "# Calculate SE(y_hat)\n",
    "SE_y_hat = np.sqrt(RSS / (n - k - 1)) / np.sqrt(n)\n",
    "\n",
    "print(\"Prediction and Standard Error:\")\n",
    "print(\"y_hat:\", y_hat)\n",
    "print(\"SE(y_hat):\", SE_y_hat)\n"
   ]
  },
  {
   "cell_type": "markdown",
   "metadata": {},
   "source": [
    "## 2\n",
    "a) Calculate m=100 bootstrap sample sets from the original set of 16 samples and, for each bootstrap sample set, estimate A_bs, B1_bs, and B2_bs by regression. (You'll have 100 estimates of each of A_bs, B1_bs, and B2_bs.)  \n",
    "b) Compute SE(B1_bs) and SE(B2_bs) directly from the m=100 samples. Do they match SE(B1) and SE(B2) from part 1, above?  \n",
    "c) For each model, A_bs, B1_bs, and B2_bs, calculate a prediction, y_hat_bs, at x1=5, x2=.5. From that set of predictions, compute SE(y_hat_bs). Does it match SE(y_hat) from part 1, above?  \n",
    "  \n",
    "  \n",
    "Hint: Be sure the values of y, x1, and x2 stay aligned when you draw a sample from the original data. Ex: Randomly drawing the i'th sample would yield (y[i],x1[i],x2[i]) -- all with the same i."
   ]
  },
  {
   "cell_type": "code",
   "execution_count": 27,
   "metadata": {},
   "outputs": [
    {
     "name": "stdout",
     "output_type": "stream",
     "text": [
      "Bootstrap Estimates:\n",
      "A_bs_estimates: [1.13721783 1.01884697 1.05389067 1.08998957 1.00328032 1.17067509\n",
      " 1.12143327 1.01959241 0.98961842 1.17587437 1.0758086  1.05804345\n",
      " 1.12419275 1.08455958 1.02879025 1.07624263 0.84216443 1.14840675\n",
      " 0.90931771 1.01229858 1.03193129 1.06843677 0.95337718 1.21153644\n",
      " 1.05656124 1.12137571 1.04918961 0.93803619 1.1348428  1.03767123\n",
      " 1.06239159 1.00692607 1.06492627 1.16320498 0.95932598 1.12367755\n",
      " 1.04394554 1.09794626 1.11695234 1.18174601 1.03838064 1.0320032\n",
      " 0.90816299 1.04118581 0.99134713 1.0468851  1.1420315  0.88576112\n",
      " 1.11443798 1.07490085 1.06302252 0.89495275 0.95739289 1.07306632\n",
      " 0.74828029 1.05814703 1.05185501 1.03253471 0.93255997 1.17686033\n",
      " 1.18731393 1.08603869 1.02411626 1.05704417 1.02027323 1.12600783\n",
      " 0.98035645 0.89459125 0.94039373 1.02272295 1.12489293 1.07080924\n",
      " 0.94795221 1.07165062 0.94120972 0.93657832 1.07197657 1.16723151\n",
      " 0.81838347 1.03626106 1.01334873 0.9574277  1.06497565 1.06373263\n",
      " 1.02912328 1.11705681 1.01611757 1.07534351 1.0894583  1.15534744\n",
      " 1.15056896 1.17750556 1.1426393  1.098541   1.27378241 0.8690381\n",
      " 0.92813575 0.88692161 0.90867838 0.94406181]\n",
      "B1_bs_estimates: [0.73670925 0.73899736 0.74900184 0.73186202 0.76590006 0.71395582\n",
      " 0.71951331 0.73584753 0.72372565 0.75271011 0.74768506 0.73858882\n",
      " 0.72865333 0.72732138 0.72839753 0.74158343 0.75504479 0.72613759\n",
      " 0.75261956 0.73977511 0.7364137  0.74086662 0.75171257 0.74037478\n",
      " 0.73168347 0.71648278 0.74894506 0.7351892  0.72320266 0.73552842\n",
      " 0.73616806 0.75213056 0.73094055 0.75804709 0.73775345 0.72842021\n",
      " 0.74446553 0.73096973 0.72463805 0.72683372 0.73175327 0.77149481\n",
      " 0.74731473 0.73088798 0.73563589 0.73774334 0.70486503 0.75945733\n",
      " 0.75612061 0.74312966 0.75018556 0.75877336 0.74700292 0.73823041\n",
      " 0.80721392 0.76131034 0.73316326 0.74152505 0.76013409 0.71371376\n",
      " 0.71860857 0.73052184 0.73189648 0.72801282 0.75783008 0.72925031\n",
      " 0.74015624 0.72763822 0.74717349 0.74475309 0.75583829 0.76648013\n",
      " 0.74601229 0.74634607 0.74908404 0.74999017 0.75091771 0.76952863\n",
      " 0.7539375  0.72078204 0.7369977  0.75150779 0.75314134 0.74701892\n",
      " 0.72591798 0.729323   0.74943662 0.74211701 0.74690772 0.74355383\n",
      " 0.72498616 0.71713876 0.74980373 0.73397885 0.70608137 0.75334131\n",
      " 0.75770763 0.75150741 0.73738829 0.75489907]\n",
      "B2_bs_estimates: [3.1807109  3.17348176 3.11028289 3.24367764 3.06202706 3.34587662\n",
      " 3.32996004 3.18166705 3.36079821 3.05270212 3.07232352 3.11882424\n",
      " 3.19392926 3.27649547 3.37979587 3.18107774 3.41247585 3.16160049\n",
      " 3.42870799 3.24990398 3.16302569 3.23750897 3.31585851 3.11210592\n",
      " 3.38533512 3.37178987 3.21930133 3.36663507 3.18006938 3.11783005\n",
      " 3.38539667 3.05341903 3.41597355 2.9315629  3.27166293 3.15788476\n",
      " 3.20023972 3.01082475 3.28587559 3.15140024 3.25396276 2.95553343\n",
      " 3.34544418 3.34755484 3.2517568  3.24542001 3.5737248  3.26091219\n",
      " 2.97165242 3.14843074 2.9644538  3.29383178 3.21466561 3.0328702\n",
      " 3.5556661  3.07229803 3.21741928 3.20982425 3.14120304 3.1603725\n",
      " 3.26279105 3.0592036  3.39516853 3.23459271 3.18454308 3.26815624\n",
      " 3.26098211 3.55215612 3.20698813 3.18388236 2.99916129 3.08519943\n",
      " 3.2920126  3.27023381 3.44290623 3.20506757 3.00090795 2.88288133\n",
      " 3.38842329 3.38404364 3.29698964 3.27151452 3.06824228 3.15192314\n",
      " 3.23173073 3.14226058 3.24139391 3.0574219  3.08940177 3.02222977\n",
      " 3.26819256 3.16596798 2.94153103 3.34870185 3.18833474 3.46925304\n",
      " 3.46138265 3.20095984 3.29560542 3.19424878]\n"
     ]
    }
   ],
   "source": [
    "# Number of bootstrap samples\n",
    "m = 100\n",
    "\n",
    "# Initialize arrays to store bootstrap estimates\n",
    "A_bs_estimates = np.zeros(m)\n",
    "B1_bs_estimates = np.zeros(m)\n",
    "B2_bs_estimates = np.zeros(m)\n",
    "\n",
    "# Generate bootstrap sample sets and estimate parameters\n",
    "for i in range(m):\n",
    "    # Generate bootstrap sample indices\n",
    "    bootstrap_indices = np.random.choice(range(len(y)), size=len(y), replace=True)\n",
    "    \n",
    "    # Create bootstrap sample sets maintaining alignment\n",
    "    y_bs, x1_bs, x2_bs = y[bootstrap_indices], x1[bootstrap_indices], x2[bootstrap_indices]\n",
    "    \n",
    "    # Fit linear regression to bootstrap sample set\n",
    "    X_bs = sm.add_constant(np.column_stack((x1_bs, x2_bs)))  # Add constant term\n",
    "    model_bs = sm.OLS(y_bs, X_bs)\n",
    "    results_bs = model_bs.fit()\n",
    "    \n",
    "    # Store parameter estimates\n",
    "    A_bs_estimates[i], B1_bs_estimates[i], B2_bs_estimates[i] = results_bs.params\n",
    "\n",
    "print(\"Bootstrap Estimates:\")\n",
    "print(\"A_bs_estimates:\", A_bs_estimates)\n",
    "print(\"B1_bs_estimates:\", B1_bs_estimates)\n",
    "print(\"B2_bs_estimates:\", B2_bs_estimates)\n"
   ]
  },
  {
   "cell_type": "code",
   "execution_count": 28,
   "metadata": {},
   "outputs": [
    {
     "name": "stdout",
     "output_type": "stream",
     "text": [
      "SE(B1_bs) from bootstrap samples: 0.0153660225462254\n",
      "SE(B2_bs) from bootstrap samples: 0.14315990810131693\n",
      "Match with SE(B1) from original model: False\n",
      "Match with SE(B2) from original model: False\n"
     ]
    }
   ],
   "source": [
    "# Compute SE(B1_bs) and SE(B2_bs) directly from the m=100 samples\n",
    "SE_B1_bs = np.std(B1_bs_estimates, ddof=1)\n",
    "SE_B2_bs = np.std(B2_bs_estimates, ddof=1)\n",
    "\n",
    "print(\"SE(B1_bs) from bootstrap samples:\", SE_B1_bs)\n",
    "print(\"SE(B2_bs) from bootstrap samples:\", SE_B2_bs)\n",
    "print(\"Match with SE(B1) from original model:\", np.isclose(SE_B1_bs, SE_B1))\n",
    "print(\"Match with SE(B2) from original model:\", np.isclose(SE_B2_bs, SE_B2))\n"
   ]
  },
  {
   "cell_type": "code",
   "execution_count": 30,
   "metadata": {},
   "outputs": [
    {
     "name": "stdout",
     "output_type": "stream",
     "text": [
      "SE(y_hat_bs) from bootstrap samples: [0.06571032 0.06527756 0.06590681 0.06352764 0.07279953 0.07099125\n",
      " 0.06712667 0.06599435 0.06825425 0.07591392 0.06677343 0.06576494\n",
      " 0.06419999 0.06404981 0.06517164 0.06387926 0.06805976 0.06508868\n",
      " 0.06810143 0.06310446 0.06581218 0.06402699 0.06507499 0.07317433\n",
      " 0.06672449 0.06907264 0.06579171 0.06600091 0.06555017 0.06853344\n",
      " 0.06882215 0.07030718 0.06916297 0.07757737 0.06593551 0.06470616\n",
      " 0.0637004  0.07386952 0.06525883 0.06607869 0.0638011  0.0794713\n",
      " 0.06514237 0.06432424 0.06506382 0.06294683 0.08515404 0.06786423\n",
      " 0.07310179 0.06431504 0.0733388  0.06697486 0.06555319 0.07047585\n",
      " 0.11907327 0.07190862 0.06371985 0.06325007 0.06975516 0.06941134\n",
      " 0.06853621 0.07117931 0.06551913 0.06481995 0.06833891 0.06554178\n",
      " 0.06402032 0.072437   0.06720735 0.06391788 0.07287993 0.07719246\n",
      " 0.06409253 0.06824788 0.06894653 0.06694664 0.07042226 0.08730893\n",
      " 0.06963911 0.06727757 0.06308149 0.06453809 0.06814664 0.06495587\n",
      " 0.0681194  0.06501326 0.0647409  0.06749404 0.06629543 0.06867969\n",
      " 0.06659786 0.06759913 0.07264694 0.06898427 0.07337101 0.06906537\n",
      " 0.07506961 0.07181397 0.07042486 0.06661542]\n",
      "Match with SE(y_hat) from original model: [False False False False False False False False False False False False\n",
      " False False False False False False False False False False False False\n",
      " False False False False False False False False False False False False\n",
      " False False False False False False False False False False False False\n",
      " False False False False False False False False False False False False\n",
      " False False False False False False False False False False False False\n",
      " False False False False False False False False False False False False\n",
      " False False False False False False False False False False False False\n",
      " False False False False]\n"
     ]
    }
   ],
   "source": [
    "# Calculate predictions and standard errors of predictions for each bootstrap sample\n",
    "y_hat_bs = np.zeros(m)\n",
    "for i in range(m):\n",
    "    # Calculate predictions for the current bootstrap sample\n",
    "    y_hat_bs[i] = np.dot([1, 5, 0.5], [A_bs_estimates[i], B1_bs_estimates[i], B2_bs_estimates[i]])\n",
    "\n",
    "# Calculate residuals for each bootstrap sample\n",
    "residuals_bs = np.zeros((n, m))  # Initialize an array to store residuals for each bootstrap sample\n",
    "for i in range(m):\n",
    "    residuals_bs[:, i] = y - np.dot(sm.add_constant(np.column_stack((x1, x2))), [A_bs_estimates[i], B1_bs_estimates[i], B2_bs_estimates[i]])\n",
    "\n",
    "# Calculate RSS for each bootstrap sample\n",
    "RSS_bs = np.sum(residuals_bs ** 2, axis=0)\n",
    "\n",
    "# Calculate SE(y_hat_bs)\n",
    "SE_y_hat_bs = np.sqrt(RSS_bs / (n - k - 1)) / np.sqrt(n)\n",
    "\n",
    "print(\"SE(y_hat_bs) from bootstrap samples:\", SE_y_hat_bs)\n",
    "print(\"Match with SE(y_hat) from original model:\", np.isclose(SE_y_hat_bs, SE_y_hat))\n"
   ]
  },
  {
   "cell_type": "markdown",
   "metadata": {},
   "source": [
    "The output shows that the standard errors calculated from the bootstrap samples (SE(B1_bs) and SE(B2_bs)) do not match the standard errors SE(B1) and SE(B2)) from the original model. Similarly, the standard error of predictions (SE(y_hat_bs}})) calculated from the bootstrap samples also does not match SE(y_hat) from the original model."
   ]
  }
 ],
 "metadata": {
  "kernelspec": {
   "display_name": "Python 3 (ipykernel)",
   "language": "python",
   "name": "python3"
  },
  "language_info": {
   "codemirror_mode": {
    "name": "ipython",
    "version": 3
   },
   "file_extension": ".py",
   "mimetype": "text/x-python",
   "name": "python",
   "nbconvert_exporter": "python",
   "pygments_lexer": "ipython3",
   "version": "3.11.4"
  }
 },
 "nbformat": 4,
 "nbformat_minor": 2
}
